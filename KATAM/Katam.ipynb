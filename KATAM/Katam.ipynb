{
 "cells": [
  {
   "cell_type": "code",
   "execution_count": 1,
   "metadata": {},
   "outputs": [],
   "source": [
    "import netCDF4 as nc\n",
    "import numpy as np\n",
    "from netCDF4 import Dataset\n",
    "import pandas as pd\n",
    "from openpyxl import load_workbook"
   ]
  },
  {
   "cell_type": "code",
   "execution_count": 2,
   "metadata": {},
   "outputs": [],
   "source": [
    "BANDUNG = ['Bandung',-6.838,-7.316,107.254,107.931]\n",
    "BANDUNGBARAT = ['Bandung Barat',-6.689,-7.126,107.184,107.748]\n",
    "BEKASI = ['Bekasi',-5.916,-6.500,106.974,107.303]\n",
    "BOGOR = ['Bogor',-6.308,-6.791,106.400,107.225]\n",
    "CIAMIS = ['Ciamis',-7.052,-7.558,108.170,108.719]\n",
    "CIANJUR = ['Cianjur',-6.600,-7.506,106.774,107.481]\n",
    "CIREBON = ['Cirebon',-6.520,-7.004,108.320,108.836]\n",
    "GARUT = ['Garut',-6.950,-7.739,107.418,108.140]\n",
    "INDRAMAYU = ['Indramayu',-6.236,-6.667,107.853,108.540]\n",
    "KARAWANG = ['Karawang',-5.935,-6.647,107.087,107.643]\n",
    "KotaBANDUNG = ['Kota Bandug',-6.849,-6.972,107.559,107.737]\n",
    "KotaBanjar = ['Kota Banjar',-7.316,-7.430,108.465,108.654]\n",
    "KotaBEKASI = ['Kota Bekasi',-6.171,-6.410,106.903,107.048]\n",
    "KotaBOGOR = ['Kota Bogor',-6.544,-6.655,106.745,106.835]\n",
    "KotaCIMAHI = ['Kota Cimahi',-6.831,-6.934,107.518,107.579]\n",
    "KotaCIREBON = ['Kota Cirebon',-6.710,-6.792,108.526,108.581]\n",
    "KotaDepok = ['Kota Depok',-6.316,-6.471,106.724,106.915]\n",
    "KotaSUKABUMI = ['Kota Sukabumi',-6.888,-6.972,106.852,106.992]\n",
    "KotaTASIKMALAYA = ['Kota Tasikmalaya',-7.245,-7.447,108.059,108.292]\n",
    "KUNINGAN = ['Kuningan',-6.784,-7.198,108.395,108.801]\n",
    "MAJALENGKA = ['Majalengka',-6.566,-7.067,108.043,108.405]\n",
    "PANGANDARAN = ['Pangandaran',-7.442,-7.826,108.313,108.802]\n",
    "PURWAKARTA = ['Purwakarta',-6.409,-6.771,107.261,107.601]\n",
    "SUBANG = ['Subang',-6.184,-6.811,107.528,107.922]\n",
    "SUKABUMI = ['Sukabumi',-6.717,-7.437,106.391,107.068]\n",
    "SUMEDANG = ['Sumedang',-6.579,-7.041,107.738,108.222]\n",
    "TASIKMALAYA = ['Tasikmalaya',-7.042,-7.817,107.890,108.437]"
   ]
  },
  {
   "cell_type": "code",
   "execution_count": 3,
   "metadata": {},
   "outputs": [],
   "source": [
    "kota = (BANDUNG,BANDUNGBARAT,BEKASI,BOGOR,CIAMIS,CIANJUR,CIREBON,GARUT,INDRAMAYU,KARAWANG,KotaBANDUNG,KotaBanjar,\n",
    "        KotaBEKASI,KotaBOGOR,KotaCIMAHI,KotaCIREBON,KotaDepok,KotaSUKABUMI,KotaTASIKMALAYA,KUNINGAN,MAJALENGKA,\n",
    "        PANGANDARAN,PURWAKARTA,SUBANG,SUKABUMI,SUMEDANG,TASIKMALAYA)"
   ]
  },
  {
   "cell_type": "code",
   "execution_count": 4,
   "metadata": {},
   "outputs": [],
   "source": [
    "def chujan(namakota):\n",
    "    dry = {}\n",
    "    normal = {}\n",
    "    wet = {}\n",
    "    for i in range (1, 13):\n",
    "        dry[i] = np.loadtxt('Data/dry_'+str(i)+'.txt')\n",
    "    \n",
    "    for i in range (1, 13):\n",
    "        normal[i] = np.loadtxt('Data/Normal_'+str(i)+'.txt') \n",
    "    \n",
    "    for i in range (1, 13):\n",
    "        wet[i] = np.loadtxt('Data/wet_'+str(i)+'.txt') \n",
    "    \n",
    "    kotanama = namakota[0]\n",
    "    i_lat = namakota[1]\n",
    "    e_lat = namakota[2]\n",
    "    i_lon = namakota[3]\n",
    "    e_lon = namakota[4]\n",
    "    \n",
    "    i_lon1 = round((i_lon - 90)/0.125)\n",
    "    e_lon1 = round((e_lon - 90)/0.125)\n",
    "    i_lat1 = round((i_lat - 15)/-0.125)\n",
    "    e_lat1 = round((e_lat - 15)/-0.125)\n",
    "    \n",
    "    kotadry = {}\n",
    "    kotanormal = {}\n",
    "    kotawet = {}\n",
    "    for i in range (1, 13):\n",
    "        kotadry[i] = dry[i][i_lat1:e_lat1, i_lon1:e_lon1]\n",
    "        kotanormal[i] = normal[i][i_lat1:e_lat1, i_lon1:e_lon1]\n",
    "        kotawet[i] = wet[i][i_lat1:e_lat1, i_lon1:e_lon1]\n",
    "        b = kotadry[i].shape[0]\n",
    "        c = kotadry[i].shape[1]\n",
    "        kotadry[i] = np.reshape(kotadry[i], (b*c))\n",
    "        kotanormal[i] = np.reshape(kotanormal[i], (b*c))\n",
    "        kotawet[i] = np.reshape(kotawet[i], (b*c))\n",
    "        kotadry[i] = round(np.mean(kotadry[i]))\n",
    "        kotanormal[i] = round(np.mean(kotanormal[i]))\n",
    "        kotawet[i] = round(np.mean(kotawet[i]))\n",
    "\n",
    "    kotadry = list(kotadry.values())\n",
    "    kotanormal = list(kotanormal.values())\n",
    "    kotawet = list(kotawet.values())\n",
    "    \n",
    "    kotandry = np.reshape(kotadry, (12))\n",
    "    kotannormal = np.reshape(kotanormal, (12))\n",
    "    kotanwet = np.reshape(kotawet, (12))\n",
    "    \n",
    "    df1 = pd.DataFrame({'Kering': kotandry, 'Normal': kotannormal, 'Basah': kotanwet})\n",
    "    df1 = df1.rename(index={0:\"Jan\",1:\"Feb\",2:\"Mar\",3:\"Apr\",4:\"Mei\",5:\"Jun\",6:\"Jul\",7:\"Aug\",8:\"Sept\",9:\"Okt\",10:\"Nov\",11:\"Des\"})\n",
    "    \n",
    "    #b = df1.to_excel(str(kotanama)+'.xlsx')\n",
    "    \n",
    "    return(df1)"
   ]
  },
  {
   "cell_type": "code",
   "execution_count": 5,
   "metadata": {},
   "outputs": [
    {
     "name": "stderr",
     "output_type": "stream",
     "text": [
      "C:\\Users\\Astra\\anaconda3\\lib\\site-packages\\numpy\\core\\fromnumeric.py:3335: RuntimeWarning: Mean of empty slice.\n",
      "  out=out, **kwargs)\n",
      "C:\\Users\\Astra\\anaconda3\\lib\\site-packages\\numpy\\core\\_methods.py:161: RuntimeWarning: invalid value encountered in double_scalars\n",
      "  ret = ret.dtype.type(ret / rcount)\n"
     ]
    }
   ],
   "source": [
    "chujankota = {}\n",
    "for i in range (len(kota)):\n",
    "    chujankota[i] = chujan(kota[i])"
   ]
  },
  {
   "cell_type": "code",
   "execution_count": 17,
   "metadata": {},
   "outputs": [],
   "source": [
    "# Create a Pandas Excel writer using XlsxWriter as the engine.\n",
    "writer = pd.ExcelWriter('D:/Hack/Hasil.xlsx', engine='xlsxwriter')\n",
    "\n",
    "# Write each dataframe to a different worksheet.\n",
    "for i in range (len(chujankota)):\n",
    "    chujankota[i].to_excel(writer, sheet_name=str(kota[i][0]))\n",
    "\n",
    "writer.save()"
   ]
  },
  {
   "cell_type": "code",
   "execution_count": null,
   "metadata": {},
   "outputs": [],
   "source": []
  }
 ],
 "metadata": {
  "kernelspec": {
   "display_name": "Python 3",
   "language": "python",
   "name": "python3"
  },
  "language_info": {
   "codemirror_mode": {
    "name": "ipython",
    "version": 3
   },
   "file_extension": ".py",
   "mimetype": "text/x-python",
   "name": "python",
   "nbconvert_exporter": "python",
   "pygments_lexer": "ipython3",
   "version": "3.7.6"
  }
 },
 "nbformat": 4,
 "nbformat_minor": 4
}
